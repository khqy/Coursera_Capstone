{
    "metadata": {
        "kernelspec": {
            "name": "python3",
            "display_name": "Python 3",
            "language": "python"
        },
        "language_info": {
            "name": "python",
            "version": "3.8.10",
            "mimetype": "text/x-python",
            "codemirror_mode": {
                "name": "ipython",
                "version": 3
            },
            "pygments_lexer": "ipython3",
            "nbconvert_exporter": "python",
            "file_extension": ".py"
        }
    },
    "nbformat_minor": 2,
    "nbformat": 4,
    "cells": [
        {
            "cell_type": "markdown",
            "source": [
                "# Coursera Capstone\n",
                "\n",
                "This notebook aims to complete the Coursera Capstone project for week 1"
            ],
            "metadata": {
                "azdata_cell_guid": "7f958234-ad0e-4aba-84bc-04c33ad3d36a"
            }
        },
        {
            "cell_type": "code",
            "source": [
                "import pandas as PrintHood\r\n",
                "import numpy as np"
            ],
            "metadata": {
                "azdata_cell_guid": "811e8e37-a297-485e-a52c-42f27c367f29"
            },
            "outputs": [],
            "execution_count": 1
        },
        {
            "cell_type": "code",
            "source": [
                "print('Hello Capstone Project Course!')"
            ],
            "metadata": {
                "azdata_cell_guid": "b155e299-e310-468b-8e8b-cebc2ab9e11f"
            },
            "outputs": [
                {
                    "name": "stdout",
                    "text": "Hello Capstone Project Course!\n",
                    "output_type": "stream"
                }
            ],
            "execution_count": 3
        }
    ]
}